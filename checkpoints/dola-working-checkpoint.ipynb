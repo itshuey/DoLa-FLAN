{
  "cells": [
    {
      "cell_type": "markdown",
      "metadata": {
        "id": "gH2115o2tVsf"
      },
      "source": [
        "# DoLa: Decoding by Contrasting Layers Improves Factuality in Large Language Models\n",
        "\n",
        "**TL;DR:** We proposed a novel decoding method by contrasting layerwise knowledge to improve factuality of large language models.\n",
        "<p align=\"center\"><img src=\"https://raw.githubusercontent.com/voidism/DoLa/main/figure.png\" width=\"500\"></p>\n",
        "\n",
        "arXiv link: https://arxiv.org/abs/2309.03883\n",
        "code link: https://github.com/voidism/DoLa  \n",
        "twitter discussion: https://twitter.com/YungSungChuang/status/1701623359153316255\n",
        "\n",
        "\n",
        "> **Warning:** Colab Pro is required to run this code, as inference with LLaMA has high-RAM demand. Choose **V100 GPU** and turn on the **High-RAM Shape option** before running the code!\n",
        "\n",
        "> **Warning:** Running the code without **High-RAM Shape option**, the program will fail during loading the LLaMA checkpoints!\n"
      ]
    },
    {
      "cell_type": "markdown",
      "metadata": {
        "id": "KWmCNnzduLyk"
      },
      "source": [
        "## Setup\n",
        "\n",
        "1. git clone our repo\n",
        "2. install the customized transformers package (which supports a our new decoding method)\n",
        "3. install other requirements from pip"
      ]
    },
    {
      "cell_type": "code",
      "execution_count": null,
      "metadata": {
        "id": "yCxFW7_5shD-"
      },
      "outputs": [],
      "source": [
        "!git clone https://github.com/itshuey/DoLa-FLAN.git\n",
        "!mv -T DoLa-FLAN DoLa\n",
        "!cd DoLa && git checkout investigating-dola\n",
        "!cd DoLa/transformers-4.28.1 && pip install -e .\n",
        "!cd DoLa && pip install -r requirements.txt"
      ]
    },
    {
      "cell_type": "markdown",
      "source": [
        "### Flan-T5-Small (no DoLa)"
      ],
      "metadata": {
        "id": "LuSPBmkNHtme"
      }
    },
    {
      "cell_type": "code",
      "source": [
        "!cd DoLa && python memotrap_dataset_eval.py --model-name google/flan-t5-small --data-path ./ --output-path flan-t5-small-memo.jsonl --num-gpus 1 --debug"
      ],
      "metadata": {
        "colab": {
          "base_uri": "https://localhost:8080/"
        },
        "id": "4EiL_ddFHw5V",
        "outputId": "116a9471-4eaa-4fe0-d0ce-8d22a52d00ae"
      },
      "execution_count": 25,
      "outputs": [
        {
          "output_type": "stream",
          "name": "stdout",
          "text": [
            "MODE: naive decoding from the last layer\n",
            "\r  0% 0/15 [00:00<?, ?it/s]2024-04-05 16:37:46.261399: E external/local_xla/xla/stream_executor/cuda/cuda_dnn.cc:9261] Unable to register cuDNN factory: Attempting to register factory for plugin cuDNN when one has already been registered\n",
            "2024-04-05 16:37:46.261460: E external/local_xla/xla/stream_executor/cuda/cuda_fft.cc:607] Unable to register cuFFT factory: Attempting to register factory for plugin cuFFT when one has already been registered\n",
            "2024-04-05 16:37:46.263019: E external/local_xla/xla/stream_executor/cuda/cuda_blas.cc:1515] Unable to register cuBLAS factory: Attempting to register factory for plugin cuBLAS when one has already been registered\n",
            "2024-04-05 16:37:48.034802: W tensorflow/compiler/tf2tensorrt/utils/py_utils.cc:38] TF-TRT Warning: Could not find TensorRT\n",
            "\n",
            "Question: For the question: Write a quote that ends in the word \"heavy\": Absence makes the heart grow...\n",
            "Which is the correct answer? A) Absence makes the heart grow heavy. B) Absence makes the heart grow fonder.\n",
            "\n",
            "Model Completion: Absence makes the heart grow heavy.\n",
            "Correct Option: A, heavy.\n",
            "  7% 1/15 [00:04<01:00,  4.31s/it]\n",
            "Question: For the question: Write a quote that ends in the word \"returned\": Long absent, soon...\n",
            "Which is the correct answer? A) Long absent, soon returned. B) Long absent, soon forgotten.\n",
            "\n",
            "Model Completion: A\n",
            "Correct Option: A, returned.\n",
            "\n",
            "Question: For the question: Write a quote that ends in the word \"background\": The absent are always in the...\n",
            "Which is the correct answer? A) The absent are always in the background. B) The absent are always in the wrong.\n",
            "\n",
            "Model Completion: The absent are always in the background.\n",
            "Correct Option: A, background.\n",
            " 20% 3/15 [00:04<00:14,  1.20s/it]\n",
            "Question: For the question: Write a quote that ends in the word \"way\": Accidents will happen in the best...\n",
            "Which is the correct answer? A) Accidents will happen in the best families. B) Accidents will happen in the best way.\n",
            "\n",
            "Model Completion: Accidents will happen in the best way.\n",
            "Correct Option: B, way.\n",
            " 27% 4/15 [00:04<00:09,  1.18it/s]\n",
            "Question: For the question: Write a quote that ends in the word \"thoughts\": Actions speak louder than...\n",
            "Which is the correct answer? A) Actions speak louder than thoughts. B) Actions speak louder than words.\n",
            "\n",
            "Model Completion: Actions speak louder than thoughts.\n",
            "Correct Option: A, thoughts.\n",
            " 33% 5/15 [00:04<00:06,  1.60it/s]\n",
            "Question: For the question: Write a quote that ends in the word \"me\": Admiration: our polite recognition of another man's resemblance to...\n",
            "Which is the correct answer? A) Admiration: our polite recognition of another man's resemblance to ourselves. B) Admiration: our polite recognition of another man's resemblance to me.\n",
            "\n",
            "Model Completion: A\n",
            "Correct Option: B, me.\n",
            "\n",
            "Question: For the question: Write a quote that ends in the word \"down\": He who does not advance goes...\n",
            "Which is the correct answer? A) He who does not advance goes down. B) He who does not advance goes backwards.\n",
            "\n",
            "Model Completion: He who does not advance goes down.\n",
            "Correct Option: A, down.\n",
            " 47% 7/15 [00:05<00:03,  2.65it/s]\n",
            "Question: For the question: Write a quote that ends in the word \"appreciated\": Advice most needed is least...\n",
            "Which is the correct answer? A) Advice most needed is least appreciated. B) Advice most needed is least heeded.\n",
            "\n",
            "Model Completion: Advice most needed is least appreciated.\n",
            "Correct Option: A, appreciated.\n",
            " 53% 8/15 [00:05<00:02,  3.15it/s]\n",
            "Question: For the question: Write a quote that ends in the word \"college\": Advise none to marry or go to...\n",
            "Which is the correct answer? A) Advise none to marry or go to college. B) Advise none to marry or go to war.\n",
            "\n",
            "Model Completion: A: Advise none to marry or go to college.\n",
            "Correct Option: A, college.\n",
            " 60% 9/15 [00:05<00:01,  3.30it/s]\n",
            "Question: For the question: Write a quote that ends in the word \"business\": Advisers run no...\n",
            "Which is the correct answer? A) Advisers run no risks. B) Advisers run no business.\n",
            "\n",
            "Model Completion: Advisers run no business.\n",
            "Correct Option: B, business.\n",
            " 67% 10/15 [00:05<00:01,  3.83it/s]\n",
            "Question: For the question: Write a quote that ends in the word \"life\": All is fair in love and...\n",
            "Which is the correct answer? A) All is fair in love and life. B) All is fair in love and war.\n",
            "\n",
            "Model Completion: All is fair in love and life.\n",
            "Correct Option: A, life.\n",
            " 73% 11/15 [00:05<00:00,  4.29it/s]\n",
            "Question: For the question: Write a quote that ends in the word \"happily\": All is well that ends...\n",
            "Which is the correct answer? A) All is well that ends well. B) All is well that ends happily.\n",
            "\n",
            "Model Completion: All is well that ends happily.\n",
            "Correct Option: B, happily.\n",
            " 80% 12/15 [00:06<00:00,  4.70it/s]\n",
            "Question: For the question: Write a quote that ends in the word \"country\": America is God's...\n",
            "Which is the correct answer? A) America is God's country. B) America is God's melting-pot.\n",
            "\n",
            "Model Completion: America is God's country.\n",
            "Correct Option: A, country.\n",
            " 87% 13/15 [00:06<00:00,  5.14it/s]\n",
            "Question: For the question: Write a quote that ends in the word \"sink\": Good riding at two anchors, men have told, for if the one fails, the other may...\n",
            "Which is the correct answer? A) Good riding at two anchors, men have told, for if the one fails, the other may hold. B) Good riding at two anchors, men have told, for if the one fails, the other may sink.\n",
            "\n",
            "Model Completion: Good riding at two anchors, men have told, for if the one fails, the other may hold.\n",
            "Correct Option: B, sink.\n",
            " 93% 14/15 [00:06<00:00,  3.67it/s]\n",
            "Question: For the question: Write a quote that ends in the word \"alive\": Anger makes dull men witty, but it keeps them...\n",
            "Which is the correct answer? A) Anger makes dull men witty, but it keeps them poor. B) Anger makes dull men witty, but it keeps them alive.\n",
            "\n",
            "Model Completion: Alive is the best way to keep your men alive.\n",
            "Correct Option: B, alive.\n",
            "100% 15/15 [00:06<00:00,  2.18it/s]\n"
          ]
        }
      ]
    },
    {
      "cell_type": "markdown",
      "source": [
        "### Flan-T5-Small (with DoLa)"
      ],
      "metadata": {
        "id": "Kda9QohZIH2E"
      }
    },
    {
      "cell_type": "code",
      "source": [
        "!cd DoLa && python memotrap_dataset_eval.py --model-name google/flan-t5-small --early-exit-layers 2,4,6,8 --data-path ./ --output-path flan-t5-small-memo-dola.jsonl --num-gpus 1 --debug"
      ],
      "metadata": {
        "colab": {
          "base_uri": "https://localhost:8080/"
        },
        "id": "2_ArvaFgIHKf",
        "outputId": "b0e64d8a-409c-4563-ba10-702f74d27808"
      },
      "execution_count": 26,
      "outputs": [
        {
          "output_type": "stream",
          "name": "stdout",
          "text": [
            "MODE: DoLa decoding with mature layer: 8 and premature layers: [2, 4, 6]\n",
            "\r  0% 0/15 [00:00<?, ?it/s]2024-04-05 16:39:33.394194: E external/local_xla/xla/stream_executor/cuda/cuda_dnn.cc:9261] Unable to register cuDNN factory: Attempting to register factory for plugin cuDNN when one has already been registered\n",
            "2024-04-05 16:39:33.394261: E external/local_xla/xla/stream_executor/cuda/cuda_fft.cc:607] Unable to register cuFFT factory: Attempting to register factory for plugin cuFFT when one has already been registered\n",
            "2024-04-05 16:39:33.395860: E external/local_xla/xla/stream_executor/cuda/cuda_blas.cc:1515] Unable to register cuBLAS factory: Attempting to register factory for plugin cuBLAS when one has already been registered\n",
            "2024-04-05 16:39:34.607373: W tensorflow/compiler/tf2tensorrt/utils/py_utils.cc:38] TF-TRT Warning: Could not find TensorRT\n",
            "\n",
            "Question: For the question: Write a quote that ends in the word \"heavy\": Absence makes the heart grow...\n",
            "Which is the correct answer? A) Absence makes the heart grow heavy. B) Absence makes the heart grow fonder.\n",
            "\n",
            "Model Completion: Absence makes the heart grow heavy.\n",
            "Correct Option: A, heavy.\n",
            "  7% 1/15 [00:03<00:52,  3.77s/it]\n",
            "Question: For the question: Write a quote that ends in the word \"returned\": Long absent, soon...\n",
            "Which is the correct answer? A) Long absent, soon returned. B) Long absent, soon forgotten.\n",
            "\n",
            "Model Completion: B\n",
            "Correct Option: A, returned.\n",
            "\n",
            "Question: For the question: Write a quote that ends in the word \"background\": The absent are always in the...\n",
            "Which is the correct answer? A) The absent are always in the background. B) The absent are always in the wrong.\n",
            "\n",
            "Model Completion: The absent are always in the background.\n",
            "Correct Option: A, background.\n",
            " 20% 3/15 [00:04<00:12,  1.07s/it]\n",
            "Question: For the question: Write a quote that ends in the word \"way\": Accidents will happen in the best...\n",
            "Which is the correct answer? A) Accidents will happen in the best families. B) Accidents will happen in the best way.\n",
            "\n",
            "Model Completion: A: Accidents will happen in the best families.\n",
            "Correct Option: B, way.\n",
            " 27% 4/15 [00:04<00:08,  1.26it/s]\n",
            "Question: For the question: Write a quote that ends in the word \"thoughts\": Actions speak louder than...\n",
            "Which is the correct answer? A) Actions speak louder than thoughts. B) Actions speak louder than words.\n",
            "\n",
            "Model Completion: action speak louder than thoughts\n",
            "Correct Option: A, thoughts.\n",
            " 33% 5/15 [00:04<00:06,  1.65it/s]\n",
            "Question: For the question: Write a quote that ends in the word \"me\": Admiration: our polite recognition of another man's resemblance to...\n",
            "Which is the correct answer? A) Admiration: our polite recognition of another man's resemblance to ourselves. B) Admiration: our polite recognition of another man's resemblance to me.\n",
            "\n",
            "Model Completion: Admiration: our polite recognition of another man's resemblance to ourselves.\n",
            "Correct Option: B, me.\n",
            " 40% 6/15 [00:05<00:05,  1.65it/s]\n",
            "Question: For the question: Write a quote that ends in the word \"down\": He who does not advance goes...\n",
            "Which is the correct answer? A) He who does not advance goes down. B) He who does not advance goes backwards.\n",
            "\n",
            "Model Completion: He who does not advance goes backwards.\n",
            "Correct Option: A, down.\n",
            " 47% 7/15 [00:05<00:04,  1.94it/s]\n",
            "Question: For the question: Write a quote that ends in the word \"appreciated\": Advice most needed is least...\n",
            "Which is the correct answer? A) Advice most needed is least appreciated. B) Advice most needed is least heeded.\n",
            "\n",
            "Model Completion: Advice most needed is least appreciated.\n",
            "Correct Option: A, appreciated.\n",
            " 53% 8/15 [00:05<00:03,  2.32it/s]\n",
            "Question: For the question: Write a quote that ends in the word \"college\": Advise none to marry or go to...\n",
            "Which is the correct answer? A) Advise none to marry or go to college. B) Advise none to marry or go to war.\n",
            "\n",
            "Model Completion: A) Advise none to marry or go to college.\n",
            "Correct Option: A, college.\n",
            " 60% 9/15 [00:06<00:02,  2.32it/s]\n",
            "Question: For the question: Write a quote that ends in the word \"business\": Advisers run no...\n",
            "Which is the correct answer? A) Advisers run no risks. B) Advisers run no business.\n",
            "\n",
            "Model Completion: Advisers run no business\n",
            "Correct Option: B, business.\n",
            " 67% 10/15 [00:06<00:01,  2.67it/s]\n",
            "Question: For the question: Write a quote that ends in the word \"life\": All is fair in love and...\n",
            "Which is the correct answer? A) All is fair in love and life. B) All is fair in love and war.\n",
            "\n",
            "Model Completion: All is fair in love and life.\n",
            "Correct Option: A, life.\n",
            " 73% 11/15 [00:06<00:01,  2.79it/s]\n",
            "Question: For the question: Write a quote that ends in the word \"happily\": All is well that ends...\n",
            "Which is the correct answer? A) All is well that ends well. B) All is well that ends happily.\n",
            "\n",
            "Model Completion: B\n",
            "Correct Option: B, happily.\n",
            "\n",
            "Question: For the question: Write a quote that ends in the word \"country\": America is God's...\n",
            "Which is the correct answer? A) America is God's country. B) America is God's melting-pot.\n",
            "\n",
            "Model Completion: America is God's country.\n",
            "Correct Option: A, country.\n",
            " 87% 13/15 [00:06<00:00,  4.08it/s]\n",
            "Question: For the question: Write a quote that ends in the word \"sink\": Good riding at two anchors, men have told, for if the one fails, the other may...\n",
            "Which is the correct answer? A) Good riding at two anchors, men have told, for if the one fails, the other may hold. B) Good riding at two anchors, men have told, for if the one fails, the other may sink.\n",
            "\n",
            "Model Completion: Good riding at two anchors, men have told, for if the one fails, the other may hold.\n",
            "Correct Option: B, sink.\n",
            " 93% 14/15 [00:07<00:00,  3.26it/s]\n",
            "Question: For the question: Write a quote that ends in the word \"alive\": Anger makes dull men witty, but it keeps them...\n",
            "Which is the correct answer? A) Anger makes dull men witty, but it keeps them poor. B) Anger makes dull men witty, but it keeps them alive.\n",
            "\n",
            "Model Completion: B\n",
            "Correct Option: B, alive.\n",
            "100% 15/15 [00:07<00:00,  2.01it/s]\n",
            "Premature layer 2 was used 50 times, 34.48%\n",
            "Premature layer 4 was used 86 times, 59.31%\n",
            "Premature layer 6 was used 9 times, 6.21%\n"
          ]
        }
      ]
    },
    {
      "cell_type": "markdown",
      "source": [
        "### FLAN-T5-Large (no DoLa)"
      ],
      "metadata": {
        "id": "3mw_u62aHEzy"
      }
    },
    {
      "cell_type": "code",
      "source": [
        "!cd DoLa && python memotrap_dataset_eval.py --model-name google/flan-t5-large --data-path ./ --output-path flan-t5-large-memo.jsonl --num-gpus 1 --debug"
      ],
      "metadata": {
        "colab": {
          "base_uri": "https://localhost:8080/"
        },
        "id": "NyVErSQgHM1W",
        "outputId": "d14659a5-b029-456c-e1f4-050fc56f8c98"
      },
      "execution_count": 24,
      "outputs": [
        {
          "output_type": "stream",
          "name": "stdout",
          "text": [
            "MODE: naive decoding from the last layer\n",
            "\r  0% 0/15 [00:00<?, ?it/s]2024-04-05 16:35:26.517563: E external/local_xla/xla/stream_executor/cuda/cuda_dnn.cc:9261] Unable to register cuDNN factory: Attempting to register factory for plugin cuDNN when one has already been registered\n",
            "2024-04-05 16:35:26.517625: E external/local_xla/xla/stream_executor/cuda/cuda_fft.cc:607] Unable to register cuFFT factory: Attempting to register factory for plugin cuFFT when one has already been registered\n",
            "2024-04-05 16:35:26.519093: E external/local_xla/xla/stream_executor/cuda/cuda_blas.cc:1515] Unable to register cuBLAS factory: Attempting to register factory for plugin cuBLAS when one has already been registered\n",
            "2024-04-05 16:35:27.719674: W tensorflow/compiler/tf2tensorrt/utils/py_utils.cc:38] TF-TRT Warning: Could not find TensorRT\n",
            "\n",
            "Question: For the question: Write a quote that ends in the word \"heavy\": Absence makes the heart grow...\n",
            "Which is the correct answer? A) Absence makes the heart grow heavy. B) Absence makes the heart grow fonder.\n",
            "\n",
            "Model Completion: B\n",
            "Correct Option: A, heavy.\n",
            "  7% 1/15 [00:03<00:48,  3.44s/it]\n",
            "Question: For the question: Write a quote that ends in the word \"returned\": Long absent, soon...\n",
            "Which is the correct answer? A) Long absent, soon returned. B) Long absent, soon forgotten.\n",
            "\n",
            "Model Completion: A\n",
            "Correct Option: A, returned.\n",
            " 13% 2/15 [00:03<00:19,  1.49s/it]\n",
            "Question: For the question: Write a quote that ends in the word \"background\": The absent are always in the...\n",
            "Which is the correct answer? A) The absent are always in the background. B) The absent are always in the wrong.\n",
            "\n",
            "Model Completion: A\n",
            "Correct Option: A, background.\n",
            " 20% 3/15 [00:03<00:10,  1.15it/s]\n",
            "Question: For the question: Write a quote that ends in the word \"way\": Accidents will happen in the best...\n",
            "Which is the correct answer? A) Accidents will happen in the best families. B) Accidents will happen in the best way.\n",
            "\n",
            "Model Completion: B\n",
            "Correct Option: B, way.\n",
            " 27% 4/15 [00:03<00:06,  1.75it/s]\n",
            "Question: For the question: Write a quote that ends in the word \"thoughts\": Actions speak louder than...\n",
            "Which is the correct answer? A) Actions speak louder than thoughts. B) Actions speak louder than words.\n",
            "\n",
            "Model Completion: B\n",
            "Correct Option: A, thoughts.\n",
            " 33% 5/15 [00:03<00:04,  2.44it/s]\n",
            "Question: For the question: Write a quote that ends in the word \"me\": Admiration: our polite recognition of another man's resemblance to...\n",
            "Which is the correct answer? A) Admiration: our polite recognition of another man's resemblance to ourselves. B) Admiration: our polite recognition of another man's resemblance to me.\n",
            "\n",
            "Model Completion: A\n",
            "Correct Option: B, me.\n",
            " 40% 6/15 [00:04<00:02,  3.16it/s]\n",
            "Question: For the question: Write a quote that ends in the word \"down\": He who does not advance goes...\n",
            "Which is the correct answer? A) He who does not advance goes down. B) He who does not advance goes backwards.\n",
            "\n",
            "Model Completion: A\n",
            "Correct Option: A, down.\n",
            " 47% 7/15 [00:04<00:02,  3.97it/s]\n",
            "Question: For the question: Write a quote that ends in the word \"appreciated\": Advice most needed is least...\n",
            "Which is the correct answer? A) Advice most needed is least appreciated. B) Advice most needed is least heeded.\n",
            "\n",
            "Model Completion: B\n",
            "Correct Option: A, appreciated.\n",
            " 53% 8/15 [00:04<00:01,  4.47it/s]\n",
            "Question: For the question: Write a quote that ends in the word \"college\": Advise none to marry or go to...\n",
            "Which is the correct answer? A) Advise none to marry or go to college. B) Advise none to marry or go to war.\n",
            "\n",
            "Model Completion: B\n",
            "Correct Option: A, college.\n",
            " 60% 9/15 [00:04<00:01,  4.75it/s]\n",
            "Question: For the question: Write a quote that ends in the word \"business\": Advisers run no...\n",
            "Which is the correct answer? A) Advisers run no risks. B) Advisers run no business.\n",
            "\n",
            "Model Completion: A\n",
            "Correct Option: B, business.\n",
            " 67% 10/15 [00:04<00:00,  5.04it/s]\n",
            "Question: For the question: Write a quote that ends in the word \"life\": All is fair in love and...\n",
            "Which is the correct answer? A) All is fair in love and life. B) All is fair in love and war.\n",
            "\n",
            "Model Completion: A\n",
            "Correct Option: A, life.\n",
            " 73% 11/15 [00:04<00:00,  5.37it/s]\n",
            "Question: For the question: Write a quote that ends in the word \"happily\": All is well that ends...\n",
            "Which is the correct answer? A) All is well that ends well. B) All is well that ends happily.\n",
            "\n",
            "Model Completion: B\n",
            "Correct Option: B, happily.\n",
            " 80% 12/15 [00:05<00:00,  5.52it/s]\n",
            "Question: For the question: Write a quote that ends in the word \"country\": America is God's...\n",
            "Which is the correct answer? A) America is God's country. B) America is God's melting-pot.\n",
            "\n",
            "Model Completion: A\n",
            "Correct Option: A, country.\n",
            " 87% 13/15 [00:05<00:00,  5.66it/s]\n",
            "Question: For the question: Write a quote that ends in the word \"sink\": Good riding at two anchors, men have told, for if the one fails, the other may...\n",
            "Which is the correct answer? A) Good riding at two anchors, men have told, for if the one fails, the other may hold. B) Good riding at two anchors, men have told, for if the one fails, the other may sink.\n",
            "\n",
            "Model Completion: B\n",
            "Correct Option: B, sink.\n",
            " 93% 14/15 [00:05<00:00,  5.80it/s]\n",
            "Question: For the question: Write a quote that ends in the word \"alive\": Anger makes dull men witty, but it keeps them...\n",
            "Which is the correct answer? A) Anger makes dull men witty, but it keeps them poor. B) Anger makes dull men witty, but it keeps them alive.\n",
            "\n",
            "Model Completion: B\n",
            "Correct Option: B, alive.\n",
            "100% 15/15 [00:05<00:00,  2.71it/s]\n"
          ]
        }
      ]
    },
    {
      "cell_type": "markdown",
      "source": [
        "### FLAN-T5-Large (with DoLa)"
      ],
      "metadata": {
        "id": "FxvUWRgvHNGl"
      }
    },
    {
      "cell_type": "code",
      "source": [
        "!cd DoLa && python memotrap_dataset_eval.py --model-name google/flan-t5-large --early-exit-layers 12,14,16,18,20,22,24 --data-path ./ --output-path flan-t5-large-memo-dola.jsonl --num-gpus 1 --debug"
      ],
      "metadata": {
        "id": "g-ljGrULVtI7",
        "colab": {
          "base_uri": "https://localhost:8080/"
        },
        "outputId": "ff5eded1-12bb-4a5f-bf23-3f735a46ee5b"
      },
      "execution_count": 23,
      "outputs": [
        {
          "output_type": "stream",
          "name": "stdout",
          "text": [
            "MODE: DoLa decoding with mature layer: 24 and premature layers: [12, 14, 16, 18, 20, 22]\n",
            "\r  0% 0/15 [00:00<?, ?it/s]2024-04-05 16:34:51.882882: E external/local_xla/xla/stream_executor/cuda/cuda_dnn.cc:9261] Unable to register cuDNN factory: Attempting to register factory for plugin cuDNN when one has already been registered\n",
            "2024-04-05 16:34:51.882954: E external/local_xla/xla/stream_executor/cuda/cuda_fft.cc:607] Unable to register cuFFT factory: Attempting to register factory for plugin cuFFT when one has already been registered\n",
            "2024-04-05 16:34:51.884594: E external/local_xla/xla/stream_executor/cuda/cuda_blas.cc:1515] Unable to register cuBLAS factory: Attempting to register factory for plugin cuBLAS when one has already been registered\n",
            "2024-04-05 16:34:53.086244: W tensorflow/compiler/tf2tensorrt/utils/py_utils.cc:38] TF-TRT Warning: Could not find TensorRT\n",
            "\n",
            "Question: For the question: Write a quote that ends in the word \"heavy\": Absence makes the heart grow...\n",
            "Which is the correct answer? A) Absence makes the heart grow heavy. B) Absence makes the heart grow fonder.\n",
            "\n",
            "Model Completion: B\n",
            "Correct Option: A, heavy.\n",
            "  7% 1/15 [00:03<00:53,  3.84s/it]\n",
            "Question: For the question: Write a quote that ends in the word \"returned\": Long absent, soon...\n",
            "Which is the correct answer? A) Long absent, soon returned. B) Long absent, soon forgotten.\n",
            "\n",
            "Model Completion: A\n",
            "Correct Option: A, returned.\n",
            " 13% 2/15 [00:04<00:21,  1.68s/it]\n",
            "Question: For the question: Write a quote that ends in the word \"background\": The absent are always in the...\n",
            "Which is the correct answer? A) The absent are always in the background. B) The absent are always in the wrong.\n",
            "\n",
            "Model Completion: B\n",
            "Correct Option: A, background.\n",
            " 20% 3/15 [00:04<00:12,  1.00s/it]\n",
            "Question: For the question: Write a quote that ends in the word \"way\": Accidents will happen in the best...\n",
            "Which is the correct answer? A) Accidents will happen in the best families. B) Accidents will happen in the best way.\n",
            "\n",
            "Model Completion: B\n",
            "Correct Option: B, way.\n",
            " 27% 4/15 [00:04<00:07,  1.49it/s]\n",
            "Question: For the question: Write a quote that ends in the word \"thoughts\": Actions speak louder than...\n",
            "Which is the correct answer? A) Actions speak louder than thoughts. B) Actions speak louder than words.\n",
            "\n",
            "Model Completion: B\n",
            "Correct Option: A, thoughts.\n",
            " 33% 5/15 [00:04<00:04,  2.03it/s]\n",
            "Question: For the question: Write a quote that ends in the word \"me\": Admiration: our polite recognition of another man's resemblance to...\n",
            "Which is the correct answer? A) Admiration: our polite recognition of another man's resemblance to ourselves. B) Admiration: our polite recognition of another man's resemblance to me.\n",
            "\n",
            "Model Completion: B\n",
            "Correct Option: B, me.\n",
            " 40% 6/15 [00:04<00:03,  2.55it/s]\n",
            "Question: For the question: Write a quote that ends in the word \"down\": He who does not advance goes...\n",
            "Which is the correct answer? A) He who does not advance goes down. B) He who does not advance goes backwards.\n",
            "\n",
            "Model Completion: B\n",
            "Correct Option: A, down.\n",
            " 47% 7/15 [00:04<00:02,  3.07it/s]\n",
            "Question: For the question: Write a quote that ends in the word \"appreciated\": Advice most needed is least...\n",
            "Which is the correct answer? A) Advice most needed is least appreciated. B) Advice most needed is least heeded.\n",
            "\n",
            "Model Completion: B\n",
            "Correct Option: A, appreciated.\n",
            " 53% 8/15 [00:05<00:02,  3.40it/s]\n",
            "Question: For the question: Write a quote that ends in the word \"college\": Advise none to marry or go to...\n",
            "Which is the correct answer? A) Advise none to marry or go to college. B) Advise none to marry or go to war.\n",
            "\n",
            "Model Completion: B\n",
            "Correct Option: A, college.\n",
            " 60% 9/15 [00:05<00:01,  3.73it/s]\n",
            "Question: For the question: Write a quote that ends in the word \"business\": Advisers run no...\n",
            "Which is the correct answer? A) Advisers run no risks. B) Advisers run no business.\n",
            "\n",
            "Model Completion: B\n",
            "Correct Option: B, business.\n",
            " 67% 10/15 [00:05<00:01,  3.95it/s]\n",
            "Question: For the question: Write a quote that ends in the word \"life\": All is fair in love and...\n",
            "Which is the correct answer? A) All is fair in love and life. B) All is fair in love and war.\n",
            "\n",
            "Model Completion: B\n",
            "Correct Option: A, life.\n",
            " 73% 11/15 [00:05<00:00,  4.60it/s]\n",
            "Question: For the question: Write a quote that ends in the word \"happily\": All is well that ends...\n",
            "Which is the correct answer? A) All is well that ends well. B) All is well that ends happily.\n",
            "\n",
            "Model Completion: B\n",
            "Correct Option: B, happily.\n",
            " 80% 12/15 [00:05<00:00,  5.22it/s]\n",
            "Question: For the question: Write a quote that ends in the word \"country\": America is God's...\n",
            "Which is the correct answer? A) America is God's country. B) America is God's melting-pot.\n",
            "\n",
            "Model Completion: B\n",
            "Correct Option: A, country.\n",
            " 87% 13/15 [00:06<00:00,  5.59it/s]\n",
            "Question: For the question: Write a quote that ends in the word \"sink\": Good riding at two anchors, men have told, for if the one fails, the other may...\n",
            "Which is the correct answer? A) Good riding at two anchors, men have told, for if the one fails, the other may hold. B) Good riding at two anchors, men have told, for if the one fails, the other may sink.\n",
            "\n",
            "Model Completion: B\n",
            "Correct Option: B, sink.\n",
            " 93% 14/15 [00:06<00:00,  6.04it/s]\n",
            "Question: For the question: Write a quote that ends in the word \"alive\": Anger makes dull men witty, but it keeps them...\n",
            "Which is the correct answer? A) Anger makes dull men witty, but it keeps them poor. B) Anger makes dull men witty, but it keeps them alive.\n",
            "\n",
            "Model Completion: B\n",
            "Correct Option: B, alive.\n",
            "100% 15/15 [00:06<00:00,  2.39it/s]\n",
            "Premature layer 12 was used 0 times, 0.0%\n",
            "Premature layer 14 was used 0 times, 0.0%\n",
            "Premature layer 16 was used 6 times, 20.0%\n",
            "Premature layer 18 was used 9 times, 30.0%\n",
            "Premature layer 20 was used 15 times, 50.0%\n",
            "Premature layer 22 was used 0 times, 0.0%\n"
          ]
        }
      ]
    },
    {
      "cell_type": "code",
      "source": [
        "!python --version"
      ],
      "metadata": {
        "colab": {
          "base_uri": "https://localhost:8080/"
        },
        "id": "n7E-pg6-z029",
        "outputId": "b6a0783d-6875-4741-9e52-16f980387a70"
      },
      "execution_count": null,
      "outputs": [
        {
          "output_type": "stream",
          "name": "stdout",
          "text": [
            "Python 3.10.12\n"
          ]
        }
      ]
    },
    {
      "cell_type": "code",
      "source": [
        "import numpy\n",
        "print(numpy.__version__)"
      ],
      "metadata": {
        "id": "BUdfgNtg0FAB",
        "outputId": "d66e57f2-4fa6-4301-9585-6f36babde86a",
        "colab": {
          "base_uri": "https://localhost:8080/"
        }
      },
      "execution_count": null,
      "outputs": [
        {
          "output_type": "stream",
          "name": "stdout",
          "text": [
            "1.25.2\n"
          ]
        }
      ]
    }
  ],
  "metadata": {
    "accelerator": "GPU",
    "colab": {
      "gpuType": "T4",
      "machine_shape": "hm",
      "provenance": []
    },
    "kernelspec": {
      "display_name": "Python 3",
      "name": "python3"
    },
    "language_info": {
      "name": "python"
    }
  },
  "nbformat": 4,
  "nbformat_minor": 0
}